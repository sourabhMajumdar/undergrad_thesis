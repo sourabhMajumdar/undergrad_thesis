{
 "cells": [
  {
   "cell_type": "markdown",
   "metadata": {},
   "source": [
    "# Creation of Dialog using Self Play\n",
    "This notebook will try to explain the function of all the files in this folder which are primarily *create_dialog.py* and *utils.py*"
   ]
  },
  {
   "cell_type": "markdown",
   "metadata": {},
   "source": [
    "The Following code is ispired from the [Dialog Self-Play](https://arxiv.org/abs/1801.04871) Paper from google.\n",
    "\n",
    "Below I have tried to add as much explanation to the cells as I could. However if you feel anything is confusing then feel free to drop a main to me at smajumdar@fbk.eu"
   ]
  },
  {
   "cell_type": "markdown",
   "metadata": {},
   "source": [
    "## Utils.py\n",
    "\n",
    "Let's Start by explaining each function under utils.py"
   ]
  },
  {
   "cell_type": "markdown",
   "metadata": {},
   "source": [
    "**Importing Libraries for *utils.py***"
   ]
  },
  {
   "cell_type": "code",
   "execution_count": 1,
   "metadata": {},
   "outputs": [],
   "source": [
    "import pandas as pd\n",
    "import random\n",
    "import os"
   ]
  },
  {
   "cell_type": "markdown",
   "metadata": {},
   "source": [
    "### Make Templates Function\n",
    "**What does it do ?**\n",
    "\n",
    "The cell below reads the excel file ('templates_for_dialogue_self_play.xlsx') and extracts the template sentences to store them in a dictionary where the key is **LABEL** \n",
    "\n",
    "**Why do you need a dictionary ?**\n",
    "\n",
    "It is because in the later stages of constructing the dialog, I will need to refer this dictionary to select an appropriate template sentence to convert a an *Action* Object into an spoken dialog."
   ]
  },
  {
   "cell_type": "code",
   "execution_count": 2,
   "metadata": {},
   "outputs": [],
   "source": [
    "def make_templates(file_name=\"templates_for_dialogue_self_play.xlsx\",sheet_name=\"MAKE_TRANSACTION\",previous_dictionary=None) :\n",
    "    if previous_dictionary == None :\n",
    "        template_dictionary = dict()\n",
    "    else :\n",
    "        template_dictionary = previous_dictionary\n",
    "    \n",
    "    df = pd.read_excel(file_name,sheet_name)\n",
    "    for index,row in df.iterrows() :\n",
    "        if not pd.isnull(row[\"LABEL\"]) :\n",
    "            if row[\"LABEL\"] not in template_dictionary.keys() :\n",
    "                template_sentences = list()\n",
    "            else :\n",
    "                template_sentences = template_dictionary[row[\"LABEL\"]]\n",
    "                \n",
    "            if not pd.isnull(row[\"TEXT-EN (Marco)\"]) :\n",
    "                template_sentences.append(row[\"TEXT-EN (Marco)\"])\n",
    "            if not pd.isnull(row[\"TEXT-EN (Sourabh)\"]) :\n",
    "                template_sentences.append(row[\"TEXT-EN (Sourabh)\"])\n",
    "                \n",
    "            template_dictionary[row[\"LABEL\"]] = template_sentences\n",
    "    \n",
    "    return template_dictionary\n",
    "    "
   ]
  },
  {
   "cell_type": "markdown",
   "metadata": {},
   "source": [
    "###  Action class\n",
    "\n",
    "**What is the Action Class ?**\n",
    "\n",
    "Action class creates objects that intend to capture the various aspects of the conversation for e.g \"What action is performed ?\", \"What were the values provided ?\",\"Was there a warning that was provided ?\" etc.\n",
    "\n",
    "**Why need the Action Class, Can't you just write simple sentences like \"inform date, request amount etc.\" ?**\n",
    "\n",
    "While it's a good idea to write simple sentences to make a dialog, we need to remeber that there are more things happening within the dialog apart from the conversation. Like the task of keeping track of all the values that are being provided and executing some specific api based on action etc. Also not all the actions are meant to be said, some are there for the **api_call** and **end_call**. If I go for slicing each sentence to find out what to say, it becomes more complex and difficult and also we loose that ability of scaling."
   ]
  },
  {
   "cell_type": "code",
   "execution_count": 3,
   "metadata": {},
   "outputs": [],
   "source": [
    "class Action(object) :\n",
    "    def __init__(self,actor=None,action=None,slots=None,values=None,message=None,description=None,templates=None) :\n",
    "        \n",
    "        self.actor = actor # who performed the action\n",
    "        self.action = action # what action was performed\n",
    "        self.slots = slots # what slot was dealt with \n",
    "        self.values = values # what was the value with this slot\n",
    "        self.message = message # Any particular message related to the action\n",
    "        self.description = description # This contain the description of the action and is never intended to be shown or appear in the actual conversation\n",
    "        \n",
    "        dictionary_key = self.action\n",
    "        \n",
    "        if self.slots :\n",
    "            if len(self.slots) > 0 :\n",
    "                for slot in self.slots :\n",
    "                    \n",
    "                    if slot == \"intent\" :\n",
    "                        \n",
    "                        if self.actor == \"User\" :\n",
    "                            \n",
    "                            dictionary_key += \"-\" + slot + \"_\" + self.values[\"intent\"]\n",
    "                            \n",
    "                        else :\n",
    "                            \n",
    "                            dictionary_key += \"-\" + slot\n",
    "                    else :\n",
    "                        \n",
    "                        dictionary_key += \"-\" + slot\n",
    "        \n",
    "        \n",
    "        # if the dictionary_key exists in the template dictionary then get a template other wise set template = the action message\n",
    "        if templates and dictionary_key in templates.keys() :\n",
    "            self.template = random.sample(templates[dictionary_key],1)[0]\n",
    "        else :\n",
    "            self.template = self.message\n",
    "        \n",
    "    # standard actions to perform\n",
    "    def get_actor(self) :\n",
    "        return self.actor\n",
    "    \n",
    "    def get_action(self) :\n",
    "        return self.action\n",
    "    \n",
    "    def get_slots(self) :\n",
    "        return self.slots\n",
    "    \n",
    "    def get_values(self) :\n",
    "        return self.values\n",
    "    \n",
    "    def get_message(self) :\n",
    "        return self.message\n",
    "    \n",
    "    def get_description(self) :\n",
    "        return self.description\n",
    "    \n",
    "    # when called , construct a dialog from the slots and give it to the user\n",
    "    def get_dialog(self,with_actor=True) :\n",
    "\n",
    "        \n",
    "        \n",
    "        # first split the template into a list of words\n",
    "        words = self.template.strip().split()\n",
    "        sentence = None\n",
    "        \n",
    "        # only go to this loop if the actor is a User or Bot , in case of API go to else statement which will just append action and message\n",
    "        if self.actor == \"User\" or self.actor == \"Bot\" :\n",
    "            if self.values :\n",
    "                for slot,value in self.values.items() :\n",
    "                    search_slot = \"{\" + slot + \"}\"\n",
    "                    if search_slot in words :\n",
    "                        slot_index = words.index(search_slot)\n",
    "                        words.insert(slot_index,str(value))\n",
    "                \n",
    "                        words.pop(slot_index+1)\n",
    "                    sentence = \" \".join(words)\n",
    "                \n",
    "            # if it's a request action then get a template requesting the slots\n",
    "            elif self.action == \"request\" :\n",
    "                \n",
    "                sentence = self.template\n",
    "            \n",
    "            # if it's a end_call then show the action and the message given\n",
    "            elif self.action == \"end_call\" :\n",
    "                \n",
    "                sentence = self.action + \" \" + self.message\n",
    "            \n",
    "            else :\n",
    "                \n",
    "                sentence = self.message\n",
    "        \n",
    "        else:\n",
    "            \n",
    "            sentence = self.action + \" \" + self.message\n",
    "        if with_actor :\n",
    "            return self.actor + \" : \" + sentence\n",
    "        else :\n",
    "            return sentence\n"
   ]
  },
  {
   "cell_type": "markdown",
   "metadata": {},
   "source": [
    "**Create Raw Data**\n",
    "\n",
    "The function below converts the given set of dialogs into a human readable file and writes it to the appropriate file"
   ]
  },
  {
   "cell_type": "code",
   "execution_count": 4,
   "metadata": {},
   "outputs": [],
   "source": [
    "def create_raw_data(file_directory=\"data/\",file_name=\"data.txt\",dialogs=None) :\n",
    "    \n",
    "    if not os.path.exists(file_directory) :\n",
    "        os.makedirs(file_directory)\n",
    "    \n",
    "    file_handle = open(os.path.join(file_directory,file_name),\"w\")\n",
    "    \n",
    "    for dialog in dialogs :\n",
    "        for action in dialog :\n",
    "            file_handle.write(action.get_dialog())\n",
    "            file_handle.write(\"\\n\")\n",
    "        file_handle.write(\"\\n\")\n",
    "    file_handle.close()"
   ]
  },
  {
   "cell_type": "markdown",
   "metadata": {},
   "source": [
    "**Create Training Data Function**\n",
    "\n",
    "The code below creates the training data from the provided dialogs and writes to the appropriate file"
   ]
  },
  {
   "cell_type": "code",
   "execution_count": 5,
   "metadata": {},
   "outputs": [],
   "source": [
    "def create_training_data(file_directory=\"data/\",file_name=\"data.txt\",dialogs=None) :\n",
    "    \n",
    "    if not os.path.exists(file_directory) :\n",
    "        os.makedirs(file_directory)\n",
    "        \n",
    "    file_handle = open(os.path.join(file_directory,file_name),\"w\")\n",
    "    for dialog in dialogs :\n",
    "        count = 1\n",
    "        for i in range(0,len(dialog),2) :\n",
    "            file_handle.write(\"{} {}\\t{}\\n\".format(str(count),dialog[i].get_dialog(with_actor=False),dialog[i+1].get_dialog(with_actor=False)))\n",
    "            count += 1\n",
    "        file_handle.write(\"\\n\")\n",
    "    file_handle.close()"
   ]
  },
  {
   "cell_type": "markdown",
   "metadata": {},
   "source": [
    "**Create Candidate Function**\n",
    "\n",
    "The function below creates the candidate list from the provided dialogs and writes it to the appropriate file"
   ]
  },
  {
   "cell_type": "code",
   "execution_count": 6,
   "metadata": {},
   "outputs": [],
   "source": [
    "def create_candidates(file_directory=\"data/\",file_name=\"data.txt\",dialogs=None) :\n",
    "    candidate_set = set()\n",
    "    if not os.path.exists(file_directory) :\n",
    "        os.makedirs(file_directory)\n",
    "        \n",
    "    for dialog in dialogs :\n",
    "        for action in dialog :\n",
    "            if action.get_actor() == \"Bot\" or action.get_actor() == \"API\" :\n",
    "                candidate_set.add(action.get_dialog(with_actor=False))\n",
    "    file_handle = open(os.path.join(file_directory,file_name),\"w\")\n",
    "    for candidate in candidate_set :\n",
    "        file_handle.write(\"1 {}\\n\".format(candidate))\n",
    "    file_handle.close()"
   ]
  },
  {
   "cell_type": "markdown",
   "metadata": {},
   "source": [
    "## create_dialog.py\n",
    "\n",
    "Below is the Description of all the functions in the *create_dialog.py*"
   ]
  },
  {
   "cell_type": "markdown",
   "metadata": {},
   "source": [
    "**Importing Libraries for *create_dialog.py***"
   ]
  },
  {
   "cell_type": "code",
   "execution_count": 7,
   "metadata": {},
   "outputs": [],
   "source": [
    "from Bot.transaction_bot import Transaction_bot\n",
    "from Bot.account_bot import Account_bot\n",
    "from Bot.transaction_history_bot import Transaction_history_bot\n",
    "\n",
    "from User.transaction_user import Transaction_user\n",
    "from User.account_user import Account_user\n",
    "from User.transaction_history_user import Transaction_history_user\n",
    "\n",
    "import numpy as np # no use until now\n",
    "import random # used for random sampling of values where applicable\n",
    "import math # no use untill now\n",
    "import pandas as pd # to read the excel file \n",
    "import os # to carry os operations"
   ]
  },
  {
   "cell_type": "markdown",
   "metadata": {},
   "source": [
    "**DICTIONARY FOR MAKING TRANSACTION**"
   ]
  },
  {
   "cell_type": "code",
   "execution_count": 8,
   "metadata": {},
   "outputs": [],
   "source": [
    "template_dictionary = make_templates(file_name=\"templates_for_dialogue_self_play.xlsx\",\n",
    "                                     sheet_name=\"MAKE_TRANSACTION\",\n",
    "                                     previous_dictionary=None)"
   ]
  },
  {
   "cell_type": "markdown",
   "metadata": {},
   "source": [
    "**DICTIONARY FOR CHECKING ACCOUNT BALANCE**"
   ]
  },
  {
   "cell_type": "code",
   "execution_count": 9,
   "metadata": {},
   "outputs": [],
   "source": [
    "template_dictionary = make_templates(file_name=\"templates_for_dialogue_self_play.xlsx\",\n",
    "                                     sheet_name=\"ACCOUNT_BALANCE\",\n",
    "                                     previous_dictionary=template_dictionary)"
   ]
  },
  {
   "cell_type": "markdown",
   "metadata": {},
   "source": [
    "**DICTIONARY FOR CHECKING TRANSACTION HISTORY**"
   ]
  },
  {
   "cell_type": "code",
   "execution_count": 10,
   "metadata": {},
   "outputs": [],
   "source": [
    "template_dictionary = make_templates(file_name=\"templates_for_dialogue_self_play.xlsx\",\n",
    "                                     sheet_name=\"TRANS_HISTORY\",\n",
    "                                     previous_dictionary=template_dictionary)"
   ]
  },
  {
   "cell_type": "markdown",
   "metadata": {},
   "source": [
    "### The dialog generator (the simplest piece of the code)\n",
    "\n",
    "Here we are generating dialogs based on \"Actions\".\n",
    "We always keep track of the last transaction performed. If last_action is an *\"end_call\"* then we conclude our dialog.\n",
    "We do this for each of the 100 dialogs"
   ]
  },
  {
   "cell_type": "code",
   "execution_count": 13,
   "metadata": {},
   "outputs": [],
   "source": [
    "def create_dialogs(user,bot,number_of_dialogs) :\n",
    "    \n",
    "    dialogs = list()\n",
    "    \n",
    "    for i in range(number_of_dialogs) :\n",
    "        \n",
    "        dialog = list()\n",
    "        \n",
    "        user_action = Action(actor=\"User\",\n",
    "                             action=None,\n",
    "                             slots=None,\n",
    "                             values=None,\n",
    "                             message=\"<SILENCE>\")\n",
    "        bot_action = Action(actor=\"Bot\",\n",
    "                            action=\"request\",\n",
    "                            slots=[\"intent\"],\n",
    "                            values=None,\n",
    "                            message=\"Gettinng intent\")\n",
    "        \n",
    "        #print(\"User:{} Bot:{}\".format(user_action.get_message(),bot_action.get_message()))\n",
    "        \n",
    "        dialog.append(user_action)\n",
    "        dialog.append(bot_action)\n",
    "        \n",
    "        latest_action = None\n",
    "        \n",
    "        while latest_action != \"end_call\" :\n",
    "            user_action = user.speak(bot_action)\n",
    "            bot_action = bot.speak(user_action)\n",
    "            latest_action = bot_action.get_action()\n",
    "            print(\"latest action is {}\".format(latest_action))\n",
    "            dialog.append(user_action)\n",
    "            dialog.append(bot_action)\n",
    "            #print(\"User:{} Bot:{}\".format(user_action.get_message(),bot_action.get_message()))\n",
    "        \n",
    "        dialogs.append(dialog)\n",
    "    \n",
    "    return dialogs"
   ]
  },
  {
   "cell_type": "markdown",
   "metadata": {},
   "source": [
    "**Creating Dialogs for Transaction Domain**\n",
    "\n",
    "The code below creates the set of actions that pertain to the transaction domain"
   ]
  },
  {
   "cell_type": "code",
   "execution_count": 14,
   "metadata": {
    "scrolled": true
   },
   "outputs": [
    {
     "name": "stdout",
     "output_type": "stream",
     "text": [
      "next_state:user_account\n",
      "next_state:check_account\n",
      "next_state:destination_name\n",
      "next_state:check_destination\n",
      "next_state:amount\n",
      "next_state:check_amount\n",
      "next_state:confirmation_state\n",
      "next_state:api_call\n",
      "next_state:end_call\n",
      "inside end_call state\n",
      "next_state:initial\n"
     ]
    },
    {
     "ename": "AttributeError",
     "evalue": "'NoneType' object has no attribute 'get_action'",
     "output_type": "error",
     "traceback": [
      "\u001b[0;31m---------------------------------------------------------------------------\u001b[0m",
      "\u001b[0;31mAttributeError\u001b[0m                            Traceback (most recent call last)",
      "\u001b[0;32m<ipython-input-14-755e559968ba>\u001b[0m in \u001b[0;36m<module>\u001b[0;34m()\u001b[0m\n\u001b[1;32m      1\u001b[0m \u001b[0mtransaction_user\u001b[0m \u001b[0;34m=\u001b[0m \u001b[0mTransaction_user\u001b[0m\u001b[0;34m(\u001b[0m\u001b[0mtemplates\u001b[0m\u001b[0;34m=\u001b[0m\u001b[0mtemplate_dictionary\u001b[0m\u001b[0;34m)\u001b[0m\u001b[0;34m\u001b[0m\u001b[0m\n\u001b[1;32m      2\u001b[0m \u001b[0mtransaction_bot\u001b[0m \u001b[0;34m=\u001b[0m \u001b[0mTransaction_bot\u001b[0m\u001b[0;34m(\u001b[0m\u001b[0mtemplates\u001b[0m\u001b[0;34m=\u001b[0m\u001b[0mtemplate_dictionary\u001b[0m\u001b[0;34m)\u001b[0m\u001b[0;34m\u001b[0m\u001b[0m\n\u001b[0;32m----> 3\u001b[0;31m \u001b[0mtransaction_dialogs\u001b[0m \u001b[0;34m=\u001b[0m \u001b[0mcreate_dialogs\u001b[0m\u001b[0;34m(\u001b[0m\u001b[0muser\u001b[0m\u001b[0;34m=\u001b[0m\u001b[0mtransaction_user\u001b[0m\u001b[0;34m,\u001b[0m\u001b[0mbot\u001b[0m\u001b[0;34m=\u001b[0m\u001b[0mtransaction_bot\u001b[0m\u001b[0;34m,\u001b[0m\u001b[0mnumber_of_dialogs\u001b[0m\u001b[0;34m=\u001b[0m\u001b[0;36m100\u001b[0m\u001b[0;34m)\u001b[0m\u001b[0;34m\u001b[0m\u001b[0m\n\u001b[0m",
      "\u001b[0;32m<ipython-input-13-9515c98ff5c0>\u001b[0m in \u001b[0;36mcreate_dialogs\u001b[0;34m(user, bot, number_of_dialogs)\u001b[0m\n\u001b[1;32m     28\u001b[0m             \u001b[0muser_action\u001b[0m \u001b[0;34m=\u001b[0m \u001b[0muser\u001b[0m\u001b[0;34m.\u001b[0m\u001b[0mspeak\u001b[0m\u001b[0;34m(\u001b[0m\u001b[0mbot_action\u001b[0m\u001b[0;34m)\u001b[0m\u001b[0;34m\u001b[0m\u001b[0m\n\u001b[1;32m     29\u001b[0m             \u001b[0mbot_action\u001b[0m \u001b[0;34m=\u001b[0m \u001b[0mbot\u001b[0m\u001b[0;34m.\u001b[0m\u001b[0mspeak\u001b[0m\u001b[0;34m(\u001b[0m\u001b[0muser_action\u001b[0m\u001b[0;34m)\u001b[0m\u001b[0;34m\u001b[0m\u001b[0m\n\u001b[0;32m---> 30\u001b[0;31m             \u001b[0mlatest_action\u001b[0m \u001b[0;34m=\u001b[0m \u001b[0mbot_action\u001b[0m\u001b[0;34m.\u001b[0m\u001b[0mget_action\u001b[0m\u001b[0;34m(\u001b[0m\u001b[0;34m)\u001b[0m\u001b[0;34m\u001b[0m\u001b[0m\n\u001b[0m\u001b[1;32m     31\u001b[0m             \u001b[0mdialog\u001b[0m\u001b[0;34m.\u001b[0m\u001b[0mappend\u001b[0m\u001b[0;34m(\u001b[0m\u001b[0muser_action\u001b[0m\u001b[0;34m)\u001b[0m\u001b[0;34m\u001b[0m\u001b[0m\n\u001b[1;32m     32\u001b[0m             \u001b[0mdialog\u001b[0m\u001b[0;34m.\u001b[0m\u001b[0mappend\u001b[0m\u001b[0;34m(\u001b[0m\u001b[0mbot_action\u001b[0m\u001b[0;34m)\u001b[0m\u001b[0;34m\u001b[0m\u001b[0m\n",
      "\u001b[0;31mAttributeError\u001b[0m: 'NoneType' object has no attribute 'get_action'"
     ]
    }
   ],
   "source": [
    "transaction_user = Transaction_user(templates=template_dictionary)\n",
    "transaction_bot = Transaction_bot(templates=template_dictionary)\n",
    "transaction_dialogs = create_dialogs(user=transaction_user,bot=transaction_bot,number_of_dialogs=100)"
   ]
  },
  {
   "cell_type": "markdown",
   "metadata": {},
   "source": [
    "**Creating Dialog in the Account Balance Domain**\n",
    "\n",
    "The code below creates data in the Account Balance Domain"
   ]
  },
  {
   "cell_type": "code",
   "execution_count": null,
   "metadata": {},
   "outputs": [],
   "source": [
    "account_dialogs = list()\n",
    "for i in range(100) :\n",
    "    \n",
    "    dialog = list()\n",
    "    user_bot = Account_user()\n",
    "    transaction_bot = Account_bot()\n",
    "    \n",
    "    user_action = Action(actor=\"User\",action=None,slots=None,values=None,message=\"<SILENCE>\")\n",
    "    bot_action = Action(actor=\"Bot\",action=\"request\",slots=[\"intent\"],values=None,message=\"Get the intent first\")\n",
    "    dialog.append(user_action)\n",
    "    dialog.append(bot_action)\n",
    "    \n",
    "    latest_action = None\n",
    "    \n",
    "    while latest_action != \"end_call\" :\n",
    "        user_action = user_bot.speak(bot_action)\n",
    "        bot_action = transaction_bot.speak(user_action)\n",
    "        latest_action = bot_action.get_action()\n",
    "        dialog.append(user_action)\n",
    "        dialog.append(bot_action)\n",
    "    \n",
    "    account_dialogs.append(dialog)"
   ]
  },
  {
   "cell_type": "markdown",
   "metadata": {},
   "source": [
    "**Creating Dialog in the Transaction History Domain**\n",
    "\n",
    "The code below creates Dialog in the Transaction Domain"
   ]
  },
  {
   "cell_type": "code",
   "execution_count": null,
   "metadata": {},
   "outputs": [],
   "source": [
    "transaction_history_dialogs = list()\n",
    "for i in range(100) :\n",
    "    \n",
    "    dialog = list()\n",
    "    user_bot = Transaction_history_user()\n",
    "    transaction_bot = Transaction_history_bot()\n",
    "    \n",
    "    user_action = Action(actor=\"User\",action=None,slots=None,values=None,message=\"<SILENCE>\")\n",
    "    bot_action = Action(actor=\"Bot\",action=\"request\",slots=[\"intent\"],values=None,message=\"Get the intent first\")\n",
    "    dialog.append(user_action)\n",
    "    dialog.append(bot_action)\n",
    "    \n",
    "    latest_action = None\n",
    "    \n",
    "    while latest_action != \"end_call\" :\n",
    "        user_action = user_bot.speak(bot_action)\n",
    "        bot_action = transaction_bot.speak(user_action)\n",
    "        latest_action = bot_action.get_action()\n",
    "        dialog.append(user_action)\n",
    "        dialog.append(bot_action)\n",
    "    \n",
    "    transaction_history_dialogs.append(dialog)"
   ]
  },
  {
   "cell_type": "markdown",
   "metadata": {},
   "source": [
    "**Creating the total list of the dialog**\n",
    "\n",
    "The code below creates the complete list of dialog including transaction, account balance and transaction history"
   ]
  },
  {
   "cell_type": "code",
   "execution_count": null,
   "metadata": {},
   "outputs": [],
   "source": [
    "dialogs = list()\n",
    "dialogs.extend(transaction_dialogs)\n",
    "dialogs.extend(account_dialogs)\n",
    "dialogs.extend(transaction_history_dialogs)"
   ]
  },
  {
   "cell_type": "markdown",
   "metadata": {},
   "source": [
    "**Creating Start Dialogs**\n",
    "\n",
    "*start_dialogs* is the set of actions till the point where we determine the intent of the conversation from the user.\n",
    "\n",
    "We will then use this set of *start_dialogs* to create the training data for the main memory network.\n",
    "\n",
    "For example a sample of *start_dialogs* is :\n",
    "\n",
    "1.User(Action=Silence)\n",
    "\n",
    "2.Bot(Action=Request Intent)\n",
    "\n",
    "3.User(Action=Inform Intent)\n",
    "\n",
    "4.Bot(Action=Call appropriate Memory Network)"
   ]
  },
  {
   "cell_type": "code",
   "execution_count": null,
   "metadata": {},
   "outputs": [],
   "source": [
    "start_dialogs = list()\n",
    "for dialog in dialogs :\n",
    "    start_dialog = list()\n",
    "    for action in dialog :\n",
    "        start_dialog.append(action)\n",
    "        if action.get_action() == \"inform\" and \"intent\" in action.get_slots() :\n",
    "            mem_action = Action(actor=\"Bot\",\n",
    "                                action=\"mem_call\",\n",
    "                                slots=None,\n",
    "                                values=None,\n",
    "                                message=\"mem_call:{}\".format(action.get_values()[\"intent\"]))\n",
    "            start_dialog.append(mem_action)\n",
    "            break\n",
    "    start_dialogs.append(start_dialog)"
   ]
  },
  {
   "cell_type": "markdown",
   "metadata": {},
   "source": [
    "### Printing the dialogs\n",
    "\n",
    "We have to remeber that the dialog is a set of action and so to format them into a useful information here is the protocol that we will follow :\n",
    "1. if its a request or inform action then we check if there is a slot associated.\n",
    "    \n",
    "    a. if there is then we know that the action is a request/inform with a slot and value associated.\n",
    "    \n",
    "    b. If there is no slot then we are assuming it's the case when there is an unexpected action occuring and in this case we print the message associated with the action.\n",
    "    \n",
    "2. If it's an api call then print the api_call with the appropriate values\n",
    "\n",
    "3. If it's an end_call then print the message that is given with the ending of the call."
   ]
  },
  {
   "cell_type": "markdown",
   "metadata": {},
   "source": [
    "### How to Read the Data :\n",
    "\n",
    "Every dialog is a set of actions.\n",
    "\n",
    "When printing it is printed as :\n",
    "\n",
    "{actor} : {action} {slots_asked} ==> {slots_given(if any)}\n",
    "\n",
    "So the Bot actions are printed as follows \n",
    "\n",
    "Bot : { request/api_call/end_call }  {[slots asked]/message given(if any)}\n",
    "\n",
    "And the User actions are printed as follows\n",
    "\n",
    "User : {inform} {[slots given]} {[slot values]/message}\n",
    "\n",
    "On Similar lines, the Transaction_Check_Software and Balance_check_Software follow the format of Bot action and Software follows the format of User action"
   ]
  },
  {
   "cell_type": "markdown",
   "metadata": {},
   "source": [
    "### How to Write the Data to File\n",
    "\n",
    "There are three files that are used for the puprose here :\n",
    "a. raw_data.txt\n",
    "b. train_data.txt\n",
    "c. candidate.txt\n",
    "\n",
    "**a. raw_data.txt**\n",
    "\n",
    "This file is supposed to print the data in a human-readable format. The General representation of a dialog is as folows :\n",
    "    \n",
    "    1. {Actor} : {Dialog}\n",
    "    so a good example of this format is -:\n",
    "        1. User : <SILENCE>\n",
    "        2. Bot : How can I help you today\n",
    "        3. User : I would like to know my account balance\n",
    "        4. API : request list_of_accounts:{name=Sourabh}\n",
    "        5. API_RESP : inform list_of_accounts:{Credit,Savings}\n",
    "        6. Bot : You have the following list of accounts : Credit,Savings , which one ?\n",
    "        7. User : Let's see Savings\n",
    "        8. Bot : api_call account:{Savings}\n",
    "        9. API_RESP : inform account:{Savings} balance:{xxx}\n",
    "        10.Bot : Your balance for Savings account is xxx euros, ciao !!\n",
    "      \n",
    "**b. train_data.txt**\n",
    "\n",
    "The file is supposed to be written as the file for the training data in the conversation.\n",
    "A Sample Conversation is written below :\n",
    "\n",
    "    1 <SILENCE>\thow can i help you today ?\n",
    "    2 I would like to see my transaction history\trequest_accounts accounts:Simone\n",
    "    3 inform list_of_accounts : Savings\tYou have the following accounts : Savings , which one do you wish ?\n",
    "    4 Savings\tWhich information should I give credit or debit ?\n",
    "    5 let's see debit\tCan I ask what is the name of the partner ?\n",
    "    6 it's for Serra\tapi_call Savings debit Serra\n",
    "    7 inform api_call : success\tend_call api_call successful !!\n",
    "    \n",
    "**c. candidate.txt**\n",
    "\n",
    "The file is suppose to create the candidates for the appropriate conversations.\n",
    "A Sample of candidates is written below.\n",
    "\n",
    "    1 amount_check  user_account:Savings amount:9000\n",
    "    1 It seems the amount you provided can't be processed because your transaction limit is 5000 and your current balance is 8000 so the maximum you can transfer is 5000, would you like to reduce your amount to this amount ?\n",
    "    1 The recipient you are trying to provide doesn't exist, available list of recipients is Tahir,Sourabh,Samuel,Vevake, would you like to change the recipient ?\n",
    "    1 It seems that you have not entered a valid account, you available accounts are Savings, would you like change the source account ?\n",
    "    1 api_call Savings Marco 400\n",
    "    1 The recipient you are trying to provide doesn't exist, available list of recipients is Sourabh,Matteo, would you like to change the recipient ?\n",
    "    1 api_call Credit Samuel 400\n",
    "    1 destination_name_check destination_name:Vevake\n",
    "    1 amount_check user_account:Checkin , amount:1600\n",
    "    1 account_check user_account:Credit\n",
    "    1 amount_check  user_account:Credit amount:2400\n",
    "    1 api_call Savings Marco 4500"
   ]
  },
  {
   "cell_type": "markdown",
   "metadata": {},
   "source": [
    "**Writing Raw Data for the Transaction Domain**\n",
    "\n",
    "The code below writes the training data for the Transaction Domain Memory Network in a human readable format such that one can asses the quality of the conversation."
   ]
  },
  {
   "cell_type": "code",
   "execution_count": null,
   "metadata": {},
   "outputs": [],
   "source": [
    "create_raw_data(file_directory=\"data/transaction_data/\",file_name=\"raw_data.txt\",dialogs=transaction_dialogs)"
   ]
  },
  {
   "cell_type": "markdown",
   "metadata": {},
   "source": [
    "**Writing Raw Data for the Account Balance Domain**\n",
    "\n",
    "The code below writes the training data for the Account Balance Memory Network in a Human Readable format such that once can asses the quality of the conversation."
   ]
  },
  {
   "cell_type": "code",
   "execution_count": null,
   "metadata": {},
   "outputs": [],
   "source": [
    "create_raw_data(file_directory=\"data/account_balance_data/\",file_name=\"raw_data.txt\",dialogs=account_dialogs)"
   ]
  },
  {
   "cell_type": "markdown",
   "metadata": {},
   "source": [
    "**Writing Raw Data for The Transaction History Domain**\n",
    "\n",
    "The code below writes the training data for the Transaction History Memory Network in a Human Readable format such that one can asses the quality of the conversation"
   ]
  },
  {
   "cell_type": "code",
   "execution_count": null,
   "metadata": {},
   "outputs": [],
   "source": [
    "create_raw_data(file_directory=\"data/transaction_history_data/\",file_name=\"raw_data.txt\",dialogs=transaction_history_dialogs)"
   ]
  },
  {
   "cell_type": "markdown",
   "metadata": {},
   "source": [
    "**Writing Raw Data for The Start Memory Network**\n",
    "\n",
    "The code below writes the training data for the Start Memory Network in a Human Readable Format such that one can asses the quality of the conversation."
   ]
  },
  {
   "cell_type": "code",
   "execution_count": null,
   "metadata": {},
   "outputs": [],
   "source": [
    "create_raw_data(file_directory=\"data/start_data/\",file_name=\"raw_data.txt\",dialogs=start_dialogs)"
   ]
  },
  {
   "cell_type": "markdown",
   "metadata": {},
   "source": [
    "**Writing Raw Data for One Memory Network**\n",
    "\n",
    "The code below writes the training data for the One Memory Network in a Human readable format such that one can asses the quality of the conversation."
   ]
  },
  {
   "cell_type": "code",
   "execution_count": null,
   "metadata": {},
   "outputs": [],
   "source": [
    "one_dialogs = dialogs\n",
    "random.shuffle(one_dialogs)"
   ]
  },
  {
   "cell_type": "code",
   "execution_count": null,
   "metadata": {},
   "outputs": [],
   "source": [
    "create_raw_data(file_directory=\"data/one_data/\",file_name=\"raw_data.txt\",dialogs=one_dialogs)"
   ]
  },
  {
   "cell_type": "markdown",
   "metadata": {},
   "source": [
    "**Training Data for Transaction Domain**\n",
    "\n",
    "The code below creates the training data for the Transaction Memory Network(The Memory Network responsible for handling the Transaction Intent)."
   ]
  },
  {
   "cell_type": "code",
   "execution_count": null,
   "metadata": {
    "scrolled": true
   },
   "outputs": [],
   "source": [
    "create_training_data(file_directory=\"data/transaction_data/\",file_name=\"train_data.txt\",dialogs=transaction_dialogs)\n",
    "create_training_data(file_directory=\"data/transaction_data/\",file_name=\"val_data.txt\",dialogs=transaction_dialogs)\n",
    "create_training_data(file_directory=\"data/transaction_data/\",file_name=\"test_data.txt\",dialogs=transaction_dialogs)"
   ]
  },
  {
   "cell_type": "markdown",
   "metadata": {},
   "source": [
    "**Training Data for Account Balance Domain**\n",
    "\n",
    "The code below creates the training data for the Account Balance Memory Network (The Memory Network responsible for handling Account Balance Intent)."
   ]
  },
  {
   "cell_type": "code",
   "execution_count": null,
   "metadata": {},
   "outputs": [],
   "source": [
    "create_training_data(file_directory=\"data/account_balance_data/\",file_name=\"train_data.txt\",dialogs=account_dialogs)\n",
    "create_training_data(file_directory=\"data/account_balance_data/\",file_name=\"val_data.txt\",dialogs=account_dialogs)\n",
    "create_training_data(file_directory=\"data/account_balance_data/\",file_name=\"test_data.txt\",dialogs=account_dialogs)"
   ]
  },
  {
   "cell_type": "markdown",
   "metadata": {},
   "source": [
    "**Train Data for Transaction History Memory Network**\n",
    "\n",
    "The code below creates the training data for the Transaction History Memory Network (The Memory Network responsible for handling the Transaction History Intent)."
   ]
  },
  {
   "cell_type": "code",
   "execution_count": null,
   "metadata": {},
   "outputs": [],
   "source": [
    "create_training_data(file_directory=\"data/transaction_history_data/\",file_name=\"train_data.txt\",dialogs=transaction_history_dialogs)\n",
    "create_training_data(file_directory=\"data/transaction_history_data/\",file_name=\"val_data.txt\",dialogs=transaction_history_dialogs)\n",
    "create_training_data(file_directory=\"data/transaction_history_data/\",file_name=\"test_data.txt\",dialogs=transaction_history_dialogs)"
   ]
  },
  {
   "cell_type": "markdown",
   "metadata": {},
   "source": [
    "**Train Data for Start Memory Network**\n",
    "\n",
    "The code below creates the training data for the Start Memory Network (The network which determines the intent of the conversation)."
   ]
  },
  {
   "cell_type": "code",
   "execution_count": null,
   "metadata": {},
   "outputs": [],
   "source": [
    "create_training_data(file_directory=\"data/start_data/\",file_name=\"train_data.txt\",dialogs=start_dialogs)\n",
    "create_training_data(file_directory=\"data/start_data/\",file_name=\"val_data.txt\",dialogs=start_dialogs)\n",
    "create_training_data(file_directory=\"data/start_data/\",file_name=\"test_data.txt\",dialogs=start_dialogs)"
   ]
  },
  {
   "cell_type": "markdown",
   "metadata": {},
   "source": [
    "**Train Data for One Memory Network**\n",
    "\n",
    "The code below creates the training data for the One Memory Network (The one that tries to handle all things at once)."
   ]
  },
  {
   "cell_type": "code",
   "execution_count": null,
   "metadata": {},
   "outputs": [],
   "source": [
    "create_training_data(file_directory=\"data/one_data/\",file_name=\"train_data.txt\",dialogs=one_dialogs)\n",
    "create_training_data(file_directory=\"data/one_data/\",file_name=\"val_data.txt\",dialogs=one_dialogs)\n",
    "create_training_data(file_directory=\"data/one_data/\",file_name=\"test_data.txt\",dialogs=one_dialogs)"
   ]
  },
  {
   "cell_type": "markdown",
   "metadata": {},
   "source": [
    "**Writing Transaction Dialog Candidates**\n",
    "\n",
    "The code below creates the candidate file for the conversations in the Transaction Domain, i.e Bot Utterances in the Transaction Domain"
   ]
  },
  {
   "cell_type": "code",
   "execution_count": null,
   "metadata": {},
   "outputs": [],
   "source": [
    "create_candidates(file_directory=\"data/transaction_data/\",file_name=\"candidates.txt\",dialogs=transaction_dialogs)"
   ]
  },
  {
   "cell_type": "markdown",
   "metadata": {},
   "source": [
    "**Writing Account Dialog Candidates**\n",
    "\n",
    "The code below creates the candidate file for the conversations in the Account Balance Domain, i.e Bot Utterances in the Account Balance Domain."
   ]
  },
  {
   "cell_type": "code",
   "execution_count": null,
   "metadata": {},
   "outputs": [],
   "source": [
    "create_candidates(file_directory=\"data/account_balance_data/\",file_name=\"candidates.txt\",dialogs=account_dialogs)"
   ]
  },
  {
   "cell_type": "markdown",
   "metadata": {},
   "source": [
    "**Writing Transaction History Dialog Candidates**\n",
    "\n",
    "The code below creates the candidate file for the conversations in the transaction history domain, i.e Bot Utterances in the Transaction History Domain."
   ]
  },
  {
   "cell_type": "code",
   "execution_count": null,
   "metadata": {},
   "outputs": [],
   "source": [
    "create_candidates(file_directory=\"data/transaction_history_data/\",file_name=\"candidates.txt\",dialogs=transaction_history_dialogs)"
   ]
  },
  {
   "cell_type": "markdown",
   "metadata": {},
   "source": [
    "**Writing Start Dialog Candidates**\n",
    "\n",
    "The code below creates the *candidate file* for the initial conversation, i.e before determining which Memory Network to call."
   ]
  },
  {
   "cell_type": "code",
   "execution_count": null,
   "metadata": {},
   "outputs": [],
   "source": [
    "create_candidates(file_directory=\"data/start_data/\",file_name=\"candidates.txt\",dialogs=start_dialogs)"
   ]
  },
  {
   "cell_type": "markdown",
   "metadata": {},
   "source": [
    "**Writing One Dialog Candidates**\n",
    "\n",
    "The code below creates *candidate file* for the One Memory Network, i.e the one that is handling all the intents at once"
   ]
  },
  {
   "cell_type": "code",
   "execution_count": null,
   "metadata": {},
   "outputs": [],
   "source": [
    "create_candidates(file_directory=\"data/one_data/\",file_name=\"candidates.txt\",dialogs=one_dialogs)"
   ]
  },
  {
   "cell_type": "raw",
   "metadata": {},
   "source": [
    "------------------------------------**End of Notebook**------------------------------------"
   ]
  }
 ],
 "metadata": {
  "kernelspec": {
   "display_name": "Python 3",
   "language": "python",
   "name": "python3"
  },
  "language_info": {
   "codemirror_mode": {
    "name": "ipython",
    "version": 3
   },
   "file_extension": ".py",
   "mimetype": "text/x-python",
   "name": "python",
   "nbconvert_exporter": "python",
   "pygments_lexer": "ipython3",
   "version": "3.6.5"
  }
 },
 "nbformat": 4,
 "nbformat_minor": 2
}
