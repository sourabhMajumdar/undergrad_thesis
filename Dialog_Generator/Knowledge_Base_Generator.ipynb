{
 "cells": [
  {
   "cell_type": "markdown",
   "metadata": {},
   "source": [
    "# Welcome to Game of Dialogs "
   ]
  },
  {
   "cell_type": "markdown",
   "metadata": {},
   "source": [
    "## Description\n",
    "\n",
    "Game of Dialogs is an attempt to create a Knowledge Base for creating conversational datasets for building end to end dialog systems\n",
    "\n",
    "### What is the Knowledge Base ?\n",
    "\n",
    "A Knowledge Base is a publically available Data Base that can be used to generate profiles that will be used to make unique and disctict conversations"
   ]
  },
  {
   "cell_type": "markdown",
   "metadata": {},
   "source": [
    "**Importing Libraries**"
   ]
  },
  {
   "cell_type": "code",
   "execution_count": 8,
   "metadata": {},
   "outputs": [],
   "source": [
    "import pandas as pd\n",
    "import random\n",
    "from faker import Faker"
   ]
  },
  {
   "cell_type": "code",
   "execution_count": 10,
   "metadata": {},
   "outputs": [],
   "source": [
    "import sys"
   ]
  },
  {
   "cell_type": "markdown",
   "metadata": {},
   "source": [
    "## Game of Dialogs.xlsx\n",
    "\n",
    "Below is the file called Game of Dialogs.xlsx. The filed contains the suggested values for each of the slot that we intend to use to create the dialog.\n",
    "From this excel sheet, then we create a list of possible values which will then be used to create the various user profiles for the Dialog."
   ]
  },
  {
   "cell_type": "code",
   "execution_count": 11,
   "metadata": {},
   "outputs": [],
   "source": [
    "data_frame = pd.read_excel('Game_of_Dialogs.xlsx','VARIABLE_VALUES')"
   ]
  },
  {
   "cell_type": "markdown",
   "metadata": {},
   "source": [
    "In this cell we create the user_values for the various user profiles"
   ]
  },
  {
   "cell_type": "code",
   "execution_count": 12,
   "metadata": {},
   "outputs": [],
   "source": [
    "user_values = dict()\n",
    "for index,row in data_frame.iterrows() :\n",
    "    for column in data_frame.columns :\n",
    "        list_of_values = list()\n",
    "        if column in user_values.keys() :\n",
    "            list_of_values = user_values[column]\n",
    "        if not pd.isnull(row[column]) :\n",
    "            list_of_values.append(row[column])\n",
    "        user_values[column] = list_of_values"
   ]
  },
  {
   "cell_type": "code",
   "execution_count": 13,
   "metadata": {},
   "outputs": [
    {
     "name": "stdout",
     "output_type": "stream",
     "text": [
      "{'salary': ['STARK INDUSTRIES', 'PYM INDUSTRIES', 'ACME CORP'], 'electricity bill': ['BURNS INDUSTRIES', 'POWER CORP', 'ENERGY DISTRIBUTORS'], 'telephone bill': ['SUPER NETWORK', 'CONNECTION GENE', 'INTERCONNECT TECH'], 'pension': ['STARK INDUSTRIES', 'PYM INDUSTRIES', 'ENERGY DISTRIBUTORS']}\n"
     ]
    }
   ],
   "source": [
    "data_frame_value_association = pd.read_excel('Game_of_Dialogs.xlsx','COMPANY_ROLE')\n",
    "partner_role_dict = dict()\n",
    "for index,row in data_frame_value_association.iterrows() :\n",
    "    if row[\"note\"] in partner_role_dict.keys() :\n",
    "        list_of_organizations = partner_role_dict[row[\"note\"]]\n",
    "    else :\n",
    "        list_of_organizations = list()\n",
    "        \n",
    "    if not pd.isnull(row[\"company_name\"]) :\n",
    "        list_of_organizations.append(row[\"company_name\"])\n",
    "        partner_role_dict[row[\"note\"]] = list_of_organizations\n",
    "\n",
    "print(partner_role_dict)"
   ]
  },
  {
   "cell_type": "code",
   "execution_count": 14,
   "metadata": {},
   "outputs": [
    {
     "name": "stdout",
     "output_type": "stream",
     "text": [
      "{'credited': ['salary', 'pension', 'money transfer'], 'accounted': ['electricity bill', 'telephone bill', 'money transfer', 'house rent']}\n"
     ]
    }
   ],
   "source": [
    "data_frame_note_flow = pd.read_excel('Game_of_Dialogs.xlsx','FLOW_DICTIONARY')\n",
    "note_flow_dict = dict()\n",
    "\n",
    "for index,row in data_frame_note_flow.iterrows() :\n",
    "    if row[\"accounted/credited\"] in note_flow_dict.keys() :\n",
    "        list_of_notes = note_flow_dict[row[\"accounted/credited\"]]\n",
    "    else :\n",
    "        list_of_notes = list()\n",
    "        \n",
    "    if not pd.isnull(row[\"note\"]) :\n",
    "        list_of_notes.append(row[\"note\"])\n",
    "        note_flow_dict[row[\"accounted/credited\"]] = list_of_notes\n",
    "print(note_flow_dict)"
   ]
  },
  {
   "cell_type": "markdown",
   "metadata": {},
   "source": [
    "## How to create User values\n",
    "\n",
    "Below you will see the creation of two items i.e **list_of_columns** and **knowledge_base**\n",
    "\n",
    "1. **list_of_collumns** : Contains the user slot values that we intend for each _user profile_\n",
    "2. **knowledge_base** : This is the data_frame that is usually converted to an excel file that displays various user_profiles"
   ]
  },
  {
   "cell_type": "code",
   "execution_count": 15,
   "metadata": {},
   "outputs": [],
   "source": [
    "list_of_columns = ['name','partner_names','user_accounts','balance','limit','transaction_ids','card_names','card_ids','notes','note:associated_partner','note:flow','note:amount','note:date','company_names']\n",
    "knowledge_base = pd.DataFrame(columns=list_of_columns)"
   ]
  },
  {
   "cell_type": "markdown",
   "metadata": {},
   "source": [
    "Function to create the knowledge base and convert it to an excel sheet"
   ]
  },
  {
   "cell_type": "code",
   "execution_count": 30,
   "metadata": {},
   "outputs": [],
   "source": [
    "fake = Faker()\n",
    "def create_user_profiles(number_of_profiles,user_values,file_name,list_of_columns,knowledge_base) :\n",
    "    \n",
    "    profile_set = list()\n",
    "    count = 1\n",
    "    while len(profile_set) < number_of_profiles :\n",
    "        custom_user = dict()\n",
    "        \n",
    "        #1 Set up name\n",
    "        custom_user['name'] = \"player_{}\".format(str(count))\n",
    "        count += 1\n",
    "        \n",
    "        #2 Set up partner names\n",
    "        number_of_partners = random.randint(1,len(user_values['partner_names']))\n",
    "        custom_user_partner_names = random.sample(user_values['partner_names'],number_of_partners)\n",
    "        custom_user['partner_names'] = ','.join(custom_user_partner_names)\n",
    "        \n",
    "        #3 Set user_accounts\n",
    "        number_of_accounts = random.randint(1,len(user_values['user_accounts']))\n",
    "        custom_user_accounts = random.sample(user_values['user_accounts'],number_of_accounts)\n",
    "        custom_user['user_accounts'] = ','.join(custom_user_accounts)\n",
    "        \n",
    "        #4 Set balance\n",
    "        custom_user['balance'] = random.sample(user_values['amount_values'],1)[0]\n",
    "        \n",
    "        #5 Set limit\n",
    "        custom_user['limit'] = random.sample(user_values['amount_values'],1)[0]\n",
    "        \n",
    "        #6 Set transaction_ids\n",
    "        number_of_partner_for_transaction_ids = random.randint(1,len(custom_user_partner_names))\n",
    "        list_of_partners_with_transaction_ids = random.sample(custom_user_partner_names,number_of_partner_for_transaction_ids)\n",
    "        \n",
    "        transaction_id_list = list()\n",
    "        \n",
    "        for partner in list_of_partners_with_transaction_ids :\n",
    "            \n",
    "            account_chosen = random.sample(custom_user_accounts,1)[0]\n",
    "            amount_chosen = random.sample(user_values['amount_values'],1)[0]\n",
    "            \n",
    "            while amount_chosen > custom_user[\"limit\"] :\n",
    "                amount_chosen = random.sample(user_values[\"amount_values\"],1)[0]\n",
    "            \n",
    "            transaction_id_created = \"{}-{}-{}\".format(partner,int(amount_chosen),account_chosen)\n",
    "            \n",
    "            transaction_id_list.append(transaction_id_created)\n",
    "            \n",
    "        custom_user['transaction_ids'] = ','.join(transaction_id_list)\n",
    "        \n",
    "        #7 Set card names\n",
    "        number_of_cards = random.randint(1,len(user_values['card_names']))\n",
    "        custom_user_card_names = random.sample(user_values['card_names'],number_of_cards)\n",
    "        custom_user['card_names'] = ','.join(custom_user_card_names)\n",
    "        \n",
    "        \n",
    "        #8 Set card_ids\n",
    "        card_id_list = list()\n",
    "        for card_name in custom_user_card_names :\n",
    "            linked_account = random.sample(custom_user_accounts,1)[0]\n",
    "            card_id = '{}-{}'.format(card_name,linked_account)\n",
    "            card_id_list.append(card_id)\n",
    "            \n",
    "        custom_user['card_ids'] = ','.join(card_id_list)\n",
    "        \n",
    "        \n",
    "        #9 Set notes\n",
    "        number_of_notes = random.randint(1,len(user_values['notes']))\n",
    "        custom_user_notes = random.sample(user_values['notes'],number_of_notes)\n",
    "        custom_user['notes'] = ','.join(custom_user_notes)\n",
    "        \n",
    "        \n",
    "        #10 Set note:associated_partner\n",
    "        list_of_companies = list()\n",
    "        note_associated_partner_list = list()\n",
    "        for note in custom_user_notes :\n",
    "            list_of_associated_partners = partner_role_dict[note]\n",
    "            associated_partner = random.sample(list_of_associated_partners,1)[0]\n",
    "            if associated_partner not in list_of_companies :\n",
    "                list_of_companies.append(associated_partner)\n",
    "                \n",
    "            note_associated_partner = \"{}:{}\".format(note,associated_partner)\n",
    "            note_associated_partner_list.append(note_associated_partner)\n",
    "        custom_user[\"note:associated_partner\"] = ','.join(note_associated_partner_list)\n",
    "        \n",
    "        #11 Set note:flow\n",
    "        note_flow_list = list()\n",
    "        for flow in note_flow_dict.keys() :\n",
    "            for note in custom_user_notes :\n",
    "                if note in note_flow_dict[flow] :\n",
    "                    note_flow_list.append(\"{}:{}\".format(note,flow))\n",
    "        custom_user[\"note:flow\"] = ','.join(note_flow_list)\n",
    "        \n",
    "        #12 Set note:amount\n",
    "        note_associated_amount_list = list()\n",
    "        for note in custom_user_notes :\n",
    "            amount_chosen = random.sample(user_values[\"amount_values\"],1)[0]\n",
    "            \n",
    "            while amount_chosen > custom_user[\"limit\"] :\n",
    "                amount_chosen = random.sample(user_values[\"amount_values\"],1)[0]\n",
    "            note_associated_amount = \"{}:{}\".format(note,amount_chosen)\n",
    "            note_associated_amount_list.append(note_associated_amount)\n",
    "            \n",
    "        custom_user[\"note:amount\"] = ','.join(note_associated_amount_list)\n",
    "        \n",
    "        #13 Set note:date\n",
    "        note_associated_date_list = list()\n",
    "        for note in custom_user_notes :\n",
    "            fake_date = fake.date_between(start_date='-20y',end_date='+1y')\n",
    "            date = '{}-{}-{}'.format(fake_date.day,fake_date.month,fake_date.year)\n",
    "            note_associated_date = '{}:{}'.format(note,date)\n",
    "            note_associated_date_list.append(note_associated_date)\n",
    "        \n",
    "        custom_user[\"note:date\"] = ','.join(note_associated_date_list)\n",
    "        \n",
    "        #14 Set company names\n",
    "        custom_user[\"company_names\"] = ','.join(list_of_companies)\n",
    "        \n",
    "        if custom_user not in profile_set :\n",
    "            profile_set.append(custom_user)\n",
    "        \n",
    "    for user_profile in profile_set :\n",
    "        knowledge_base = knowledge_base.append(user_profile,ignore_index=True)\n",
    "        \n",
    "    excel_writer = pd.ExcelWriter(file_name)\n",
    "    knowledge_base.to_excel(excel_writer,sheet_name='UserValues')\n",
    "    excel_writer.save()\n",
    "    return knowledge_base\n",
    "        "
   ]
  },
  {
   "cell_type": "code",
   "execution_count": 32,
   "metadata": {},
   "outputs": [],
   "source": [
    "knowledge_base = create_user_profiles(number_of_profiles=100,user_values=user_values,file_name='user_values.xlsx',list_of_columns=list_of_columns,knowledge_base=knowledge_base)"
   ]
  },
  {
   "cell_type": "code",
   "execution_count": 33,
   "metadata": {},
   "outputs": [
    {
     "name": "stdout",
     "output_type": "stream",
     "text": [
      "       name                                      partner_names  \\\n",
      "0  player_1            harry,james,lily,thomas,megan,jack,emma   \n",
      "1  player_2          lily,emma,jack,harry,james,michael,thomas   \n",
      "2  player_3                                        thomas,jack   \n",
      "3  player_4                                         james,emma   \n",
      "4  player_5  megan,emma,olivia,harry,thomas,sarah,lily,jack...   \n",
      "\n",
      "                  user_accounts  balance   limit  \\\n",
      "0                credit,savings   1000.0   100.0   \n",
      "1                         joint    100.0  1000.0   \n",
      "2        checking,fixed deposit   1000.0   100.0   \n",
      "3  checking,fixed deposit,joint    100.0   100.0   \n",
      "4           fixed deposit,joint   1000.0   100.0   \n",
      "\n",
      "                                     transaction_ids  \\\n",
      "0                                  harry-100-savings   \n",
      "1    jack-100-joint,harry-1000-joint,emma-1000-joint   \n",
      "2                                  jack-100-checking   \n",
      "3     james-100-fixed deposit,emma-100-fixed deposit   \n",
      "4  jack-100-fixed deposit,olivia-100-joint,james-...   \n",
      "\n",
      "                                          card_names  \\\n",
      "0                      credit card,stored value card   \n",
      "1  credit card,fleet card,stored value card,debit...   \n",
      "2  credit card,debit card,stored value card,prepa...   \n",
      "3                                  stored value card   \n",
      "4                            fleet card,prepaid card   \n",
      "\n",
      "                                            card_ids  \\\n",
      "0      credit card-savings,stored value card-savings   \n",
      "1  credit card-joint,fleet card-joint,stored valu...   \n",
      "2  credit card-checking,debit card-fixed deposit,...   \n",
      "3                    stored value card-fixed deposit   \n",
      "4        fleet card-fixed deposit,prepaid card-joint   \n",
      "\n",
      "                                            notes  \\\n",
      "0  salary,electricity bill,pension,telephone bill   \n",
      "1                                          salary   \n",
      "2  electricity bill,telephone bill,pension,salary   \n",
      "3                          telephone bill,pension   \n",
      "4                                  salary,pension   \n",
      "\n",
      "                             note:associated_partner  \\\n",
      "0  salary:ACME CORP,electricity bill:BURNS INDUST...   \n",
      "1                            salary:STARK INDUSTRIES   \n",
      "2  electricity bill:POWER CORP,telephone bill:INT...   \n",
      "3  telephone bill:INTERCONNECT TECH,pension:PYM I...   \n",
      "4  salary:STARK INDUSTRIES,pension:ENERGY DISTRIB...   \n",
      "\n",
      "                                           note:flow  \\\n",
      "0  salary:credited,pension:credited,electricity b...   \n",
      "1                                    salary:credited   \n",
      "2  pension:credited,salary:credited,electricity b...   \n",
      "3          pension:credited,telephone bill:accounted   \n",
      "4                   salary:credited,pension:credited   \n",
      "\n",
      "                                         note:amount  \\\n",
      "0  salary:100.0,electricity bill:100.0,pension:10...   \n",
      "1                                       salary:500.0   \n",
      "2  electricity bill:100.0,telephone bill:100.0,pe...   \n",
      "3                 telephone bill:100.0,pension:100.0   \n",
      "4                         salary:100.0,pension:100.0   \n",
      "\n",
      "                                           note:date  \\\n",
      "0  salary:7-4-2007,electricity bill:12-12-2015,pe...   \n",
      "1                                   salary:21-3-2009   \n",
      "2  electricity bill:20-3-2003,telephone bill:27-2...   \n",
      "3        telephone bill:20-3-2013,pension:25-12-2005   \n",
      "4                  salary:23-4-2007,pension:2-6-2007   \n",
      "\n",
      "                                       company_names  \n",
      "0  ACME CORP,BURNS INDUSTRIES,PYM INDUSTRIES,CONN...  \n",
      "1                                   STARK INDUSTRIES  \n",
      "2  POWER CORP,INTERCONNECT TECH,STARK INDUSTRIES,...  \n",
      "3                   INTERCONNECT TECH,PYM INDUSTRIES  \n",
      "4               STARK INDUSTRIES,ENERGY DISTRIBUTORS  \n"
     ]
    }
   ],
   "source": [
    "print(knowledge_base.head())"
   ]
  },
  {
   "cell_type": "code",
   "execution_count": null,
   "metadata": {},
   "outputs": [],
   "source": []
  },
  {
   "cell_type": "code",
   "execution_count": null,
   "metadata": {},
   "outputs": [],
   "source": []
  }
 ],
 "metadata": {
  "kernelspec": {
   "display_name": "Python 3",
   "language": "python",
   "name": "python3"
  },
  "language_info": {
   "codemirror_mode": {
    "name": "ipython",
    "version": 3
   },
   "file_extension": ".py",
   "mimetype": "text/x-python",
   "name": "python",
   "nbconvert_exporter": "python",
   "pygments_lexer": "ipython3",
   "version": "3.7.0"
  }
 },
 "nbformat": 4,
 "nbformat_minor": 2
}
