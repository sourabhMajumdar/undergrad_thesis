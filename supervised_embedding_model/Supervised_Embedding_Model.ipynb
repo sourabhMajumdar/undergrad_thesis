{
 "cells": [
  {
   "cell_type": "code",
   "execution_count": 2,
   "metadata": {},
   "outputs": [
    {
     "name": "stdout",
     "output_type": "stream",
     "text": [
      "Collecting pip\n",
      "  Using cached https://files.pythonhosted.org/packages/c2/d7/90f34cb0d83a6c5631cf71dfe64cc1054598c843a92b400e55675cc2ac37/pip-18.1-py2.py3-none-any.whl\n",
      "Installing collected packages: pip\n",
      "  Found existing installation: pip 18.0\n",
      "    Uninstalling pip-18.0:\n",
      "      Successfully uninstalled pip-18.0\n",
      "Successfully installed pip-18.1\n"
     ]
    }
   ],
   "source": [
    "!pip install --upgrade pip"
   ]
  },
  {
   "cell_type": "code",
   "execution_count": 3,
   "metadata": {},
   "outputs": [
    {
     "name": "stdout",
     "output_type": "stream",
     "text": [
      "/bin/sh: 1: source: not found\n"
     ]
    }
   ],
   "source": [
    "!source activate tensroflow"
   ]
  },
  {
   "cell_type": "code",
   "execution_count": 4,
   "metadata": {},
   "outputs": [
    {
     "name": "stdout",
     "output_type": "stream",
     "text": [
      "Collecting tensorflow\n",
      "\u001b[?25l  Downloading https://files.pythonhosted.org/packages/ce/d5/38cd4543401708e64c9ee6afa664b936860f4630dd93a49ab863f9998cd2/tensorflow-1.11.0-cp36-cp36m-manylinux1_x86_64.whl (63.0MB)\n",
      "\u001b[K    100% |████████████████████████████████| 63.0MB 914kB/s \n",
      "\u001b[?25hRequirement already satisfied: six>=1.10.0 in /home/smajumdar/anaconda3/lib/python3.6/site-packages (from tensorflow) (1.11.0)\n",
      "Collecting protobuf>=3.6.0 (from tensorflow)\n",
      "  Using cached https://files.pythonhosted.org/packages/c2/f9/28787754923612ca9bfdffc588daa05580ed70698add063a5629d1a4209d/protobuf-3.6.1-cp36-cp36m-manylinux1_x86_64.whl\n",
      "Collecting grpcio>=1.8.6 (from tensorflow)\n",
      "  Using cached https://files.pythonhosted.org/packages/a7/9c/523fec4e50cd4de5effeade9fab6c1da32e7e1d72372e8e514274ffb6509/grpcio-1.15.0-cp36-cp36m-manylinux1_x86_64.whl\n",
      "Collecting tensorboard<1.12.0,>=1.11.0 (from tensorflow)\n",
      "\u001b[?25l  Downloading https://files.pythonhosted.org/packages/9b/2f/4d788919b1feef04624d63ed6ea45a49d1d1c834199ec50716edb5d310f4/tensorboard-1.11.0-py3-none-any.whl (3.0MB)\n",
      "\u001b[K    100% |████████████████████████████████| 3.0MB 2.3MB/s \n",
      "\u001b[?25hCollecting gast>=0.2.0 (from tensorflow)\n",
      "Requirement already satisfied: wheel>=0.26 in /home/smajumdar/anaconda3/lib/python3.6/site-packages (from tensorflow) (0.31.1)\n",
      "Requirement already satisfied: numpy>=1.13.3 in /home/smajumdar/anaconda3/lib/python3.6/site-packages (from tensorflow) (1.15.2)\n",
      "Collecting astor>=0.6.0 (from tensorflow)\n",
      "  Using cached https://files.pythonhosted.org/packages/35/6b/11530768cac581a12952a2aad00e1526b89d242d0b9f59534ef6e6a1752f/astor-0.7.1-py2.py3-none-any.whl\n",
      "Requirement already satisfied: setuptools<=39.1.0 in /home/smajumdar/anaconda3/lib/python3.6/site-packages (from tensorflow) (39.1.0)\n",
      "Collecting keras-preprocessing>=1.0.3 (from tensorflow)\n",
      "  Downloading https://files.pythonhosted.org/packages/fc/94/74e0fa783d3fc07e41715973435dd051ca89c550881b3454233c39c73e69/Keras_Preprocessing-1.0.5-py2.py3-none-any.whl\n",
      "Collecting keras-applications>=1.0.5 (from tensorflow)\n",
      "\u001b[?25l  Downloading https://files.pythonhosted.org/packages/3f/c4/2ff40221029f7098d58f8d7fb99b97e8100f3293f9856f0fb5834bef100b/Keras_Applications-1.0.6-py2.py3-none-any.whl (44kB)\n",
      "\u001b[K    100% |████████████████████████████████| 51kB 1.5MB/s \n",
      "\u001b[?25hCollecting absl-py>=0.1.6 (from tensorflow)\n",
      "\u001b[?25l  Downloading https://files.pythonhosted.org/packages/16/db/cce5331638138c178dd1d5fb69f3f55eb3787a12efd9177177ae203e847f/absl-py-0.5.0.tar.gz (90kB)\n",
      "\u001b[K    100% |████████████████████████████████| 92kB 1.9MB/s \n",
      "\u001b[?25hCollecting termcolor>=1.1.0 (from tensorflow)\n",
      "Collecting markdown>=2.6.8 (from tensorboard<1.12.0,>=1.11.0->tensorflow)\n",
      "\u001b[?25l  Downloading https://files.pythonhosted.org/packages/7a/6b/5600647404ba15545ec37d2f7f58844d690baf2f81f3a60b862e48f29287/Markdown-3.0.1-py2.py3-none-any.whl (89kB)\n",
      "\u001b[K    100% |████████████████████████████████| 92kB 238kB/s \n",
      "\u001b[?25hRequirement already satisfied: werkzeug>=0.11.10 in /home/smajumdar/anaconda3/lib/python3.6/site-packages (from tensorboard<1.12.0,>=1.11.0->tensorflow) (0.14.1)\n",
      "Requirement already satisfied: h5py in /home/smajumdar/anaconda3/lib/python3.6/site-packages (from keras-applications>=1.0.5->tensorflow) (2.7.1)\n",
      "Building wheels for collected packages: absl-py\n",
      "  Running setup.py bdist_wheel for absl-py ... \u001b[?25ldone\n",
      "\u001b[?25h  Stored in directory: /home/smajumdar/.cache/pip/wheels/3c/33/ae/db8cd618e62f87594c13a5483f96e618044f9b01596efd013f\n",
      "Successfully built absl-py\n",
      "Installing collected packages: protobuf, grpcio, markdown, tensorboard, gast, astor, keras-preprocessing, keras-applications, absl-py, termcolor, tensorflow\n",
      "Successfully installed absl-py-0.5.0 astor-0.7.1 gast-0.2.0 grpcio-1.15.0 keras-applications-1.0.6 keras-preprocessing-1.0.5 markdown-3.0.1 protobuf-3.6.1 tensorboard-1.11.0 tensorflow-1.11.0 termcolor-1.1.0\n"
     ]
    }
   ],
   "source": [
    "!pip install tensorflow"
   ]
  },
  {
   "cell_type": "code",
   "execution_count": 5,
   "metadata": {},
   "outputs": [
    {
     "name": "stderr",
     "output_type": "stream",
     "text": [
      "/home/smajumdar/anaconda3/lib/python3.6/site-packages/h5py/__init__.py:36: FutureWarning: Conversion of the second argument of issubdtype from `float` to `np.floating` is deprecated. In future, it will be treated as `np.float64 == np.dtype(float).type`.\n",
      "  from ._conv import register_converters as _register_converters\n"
     ]
    }
   ],
   "source": [
    "import tensorflow as tf"
   ]
  },
  {
   "cell_type": "code",
   "execution_count": 6,
   "metadata": {},
   "outputs": [],
   "source": [
    "import math\n",
    "import numpy as np"
   ]
  },
  {
   "cell_type": "code",
   "execution_count": 8,
   "metadata": {},
   "outputs": [],
   "source": [
    "class Model(object) :\n",
    "    def __init__(self,vocab_dim,emb_dim,margin=0.01) :\n",
    "        self._vocab_dim = vocab_dim\n",
    "        self._emb_dim = emb_dim\n",
    "        self._random_seed = 42\n",
    "        self._margin = margin\n",
    "        \n",
    "        self.graph = tf.Graph()\n",
    "        self.session = tf.Session(graph=self.graph)\n",
    "        \n",
    "        self.config = tf.ConfigProto()\n",
    "        self.config.gpu_options.allow_growth = True\n",
    "        self.build_model()\n",
    "        \n",
    "        self.saver = tf.train.Saver()\n",
    "        \n",
    "        \n",
    "        init_op = tf.initialize_all_variables()\n",
    "        with self.graph.as_default() :\n",
    "            self.session.run(init_op)\n",
    "        \n",
    "    def build_model(self) :\n",
    "        self.create_variables()\n",
    "        tf.set_random_seed(self._random_seed + 1)\n",
    "        \n",
    "        A_var = tf.Variable(initial_value=tf.random_uniform(shape=[self._emb_dim,self._vocab_dim],minval=-1,maxval=1,seed=(self._random_seed + 2)))\n",
    "        B_var = tf.Variable(initial_value=tf.random_uniform(shape=[self._emb_dim,self._vocab_dim],minval=-1,maxval=1,seed=(self._random_seed + 2)))\n",
    "        \n",
    "        self.global_step = tf.Variable(0,dtype=tf.int32,trainable=False,name='global_step')\n",
    "        \n",
    "        cont_mult = tf.transpose(tf.matmul(A_var,tf.transpose(self.context_batch)))\n",
    "        resp_mult = tf.matmul(B_var,tf.transpose(self.response_batch))\n",
    "        neg_resp_mult = tf.matmul(B_var,tf.transpose(self.neg_response_batch))\n",
    "        \n",
    "        pos_raw_f = tf.diag_part(tf.matmul(cont_mult,resp_mult))\n",
    "        neg_raw_f = tf.diag_part(tf.matmul(cont_mult,neg_resp_mult))\n",
    "        \n",
    "        self.f_pos = pos_raw_f\n",
    "        self.f_neg = neg_raw_f\n",
    "        \n",
    "        self.predict_op = tf.argmax(tf.nn.relu(self.f_neg - self.f_pos + self._margin))\n",
    "        \n",
    "        self.loss = tf.reduce_sum(tf.nn.relu(self.f_neg - self.f_pos + self._margin))\n",
    "        \n",
    "        self.optimizer = tf.train.AdamOptimizer(learning_rate=1e-2).minimize(self.loss)\n",
    "        \n",
    "    def create_variables(self) :\n",
    "        \n",
    "        self.context_batch = tf.placeholder(dtype=tf.float32,name='Context',shape=[None,self._vocab_dim])\n",
    "        self.response_batch = tf.placeholder(dtype=tf.float32,name='Response',shape=[None,self._vocab_dim])\n",
    "        self.neg_response_batch = tf.placeholder(dtype=tf.float32,name='NegResponse',shape=[None,self._vocab_dim])\n",
    "        \n",
    "    def _init_summaries(self) :\n",
    "        self.accuracy = tf.placeholder_with_default(0.0,shape=(),name='Accuracy')\n",
    "        self.accuracy_summary = tf.scaler_summary('Accuracy summary',self.accuracy)\n",
    "        \n",
    "        self.f_pos_summary = tf.histogram_summary('f_pos',self.f_pos)\n",
    "        self.f_neg_summary = tf.histogram_summary('f_neg',self.f_neg)\n",
    "        \n",
    "        self.loss_summary = tf.scaler_summary('Mini-batch loss',self.loss)\n",
    "        \n",
    "        self.summary_op = tf.merge_summary([self.f_pos_summary,self.f_neg_summary,self.loss_summary])\n",
    "        \n",
    "    def batch_fit(self,context_batch,response_batch,neg_response_batch) :\n",
    "        feed_dict = {self.context_batch : context_batch, self.response_batch : response_batch, self.neg_response_batch : neg_response_batch}\n",
    "        loss = self.session.run([self.loss,self.optimizer],feed_dict=feed_dict)\n",
    "        return loss\n",
    "    \n",
    "    def batch_compute_loss(self,context_batch,response_batch,neg_response_batch) :\n",
    "        feed_dict = {self.context_batch : context_batch, self.response_batch : response_batch, self.neg_response_batch : neg_response_batch}\n",
    "        loss = self.session.run([self.loss],feed_dict=feed_dict)\n",
    "        return loss\n",
    "    "
   ]
  },
  {
   "cell_type": "code",
   "execution_count": null,
   "metadata": {},
   "outputs": [],
   "source": []
  }
 ],
 "metadata": {
  "kernelspec": {
   "display_name": "Python 3",
   "language": "python",
   "name": "python3"
  },
  "language_info": {
   "codemirror_mode": {
    "name": "ipython",
    "version": 3
   },
   "file_extension": ".py",
   "mimetype": "text/x-python",
   "name": "python",
   "nbconvert_exporter": "python",
   "pygments_lexer": "ipython3",
   "version": "3.6.5"
  }
 },
 "nbformat": 4,
 "nbformat_minor": 2
}
